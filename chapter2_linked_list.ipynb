{
 "cells": [
  {
   "cell_type": "code",
   "execution_count": 1,
   "metadata": {},
   "outputs": [],
   "source": [
    "# Definition for singly-linked list.\n",
    "class ListNode:\n",
    "    \n",
    "    # Initialization\n",
    "    def __init__(self, x):\n",
    "        self.val = x\n",
    "        self.next = None\n",
    "    \n",
    "    # Print\n",
    "    def print(self):\n",
    "        output = \"\"\n",
    "        if self:\n",
    "            output += str(self.val)\n",
    "        else:\n",
    "            return \"\"\n",
    "        if self.next:\n",
    "            output += \"->{0}\".format(self.next.print())\n",
    "        else:\n",
    "            return output\n",
    "        return output"
   ]
  },
  {
   "cell_type": "code",
   "execution_count": 2,
   "metadata": {},
   "outputs": [],
   "source": [
    "from typing import List, Dict"
   ]
  },
  {
   "cell_type": "code",
   "execution_count": 3,
   "metadata": {},
   "outputs": [],
   "source": [
    "# Function to take in a List of integers and initialize a linked list\n",
    "# The Head node gets returned\n",
    "def initLinkedList(s: List[int]) -> ListNode:\n",
    "    if len(s) <= 0:\n",
    "        return None\n",
    "    \n",
    "    head = ListNode(s[0])\n",
    "    current = head\n",
    "    \n",
    "    for i in range(1, len(s)):\n",
    "        temp = ListNode(s[i])\n",
    "        current.next = temp\n",
    "        current = temp\n",
    "        \n",
    "    return head"
   ]
  },
  {
   "cell_type": "code",
   "execution_count": 4,
   "metadata": {},
   "outputs": [],
   "source": [
    "test = initLinkedList([0,3,4,1,3])"
   ]
  },
  {
   "cell_type": "code",
   "execution_count": 5,
   "metadata": {},
   "outputs": [
    {
     "data": {
      "text/plain": [
       "'0->3->4->1->3'"
      ]
     },
     "execution_count": 5,
     "metadata": {},
     "output_type": "execute_result"
    }
   ],
   "source": [
    "test.print()"
   ]
  },
  {
   "cell_type": "markdown",
   "metadata": {},
   "source": [
    "**Question 2.1**\n",
    "\n",
    "Remove Dups: Write code to remove duplicates from an unsorted linked list."
   ]
  },
  {
   "cell_type": "code",
   "execution_count": 6,
   "metadata": {},
   "outputs": [],
   "source": [
    "def toDict(head: ListNode) -> Dict:\n",
    "    vals = {}\n",
    "    while head:\n",
    "        if head.val in vals:\n",
    "            vals[head.val] += 1\n",
    "        else:\n",
    "            vals[head.val] = 1\n",
    "        head = head.next\n",
    "    return vals"
   ]
  },
  {
   "cell_type": "code",
   "execution_count": 7,
   "metadata": {},
   "outputs": [],
   "source": [
    "def removeDups(head: ListNode) -> ListNode:\n",
    "    vals = toDict(head)\n",
    "    print(vals)\n",
    "    currNode = head\n",
    "    nextNode = head.next\n",
    "    while nextNode:\n",
    "        # Check if the dictionary value is 1 (i.e. unique)\n",
    "        nextVal = nextNode.val\n",
    "        # Duplicate, skip the nextNode\n",
    "        if vals[nextVal] > 1:\n",
    "            vals[nextVal] -= 1\n",
    "            nextNode = nextNode.next # Skip nextNode\n",
    "            currNode.next = nextNode \n",
    "            # currNode doesn't get updated\n",
    "        else:\n",
    "            # Business as usual\n",
    "            currNode = nextNode\n",
    "            nextNode = currNode.next\n",
    "    return head"
   ]
  },
  {
   "cell_type": "code",
   "execution_count": 8,
   "metadata": {},
   "outputs": [
    {
     "name": "stdout",
     "output_type": "stream",
     "text": [
      "{0: 1}\n"
     ]
    },
    {
     "data": {
      "text/plain": [
       "'0'"
      ]
     },
     "execution_count": 8,
     "metadata": {},
     "output_type": "execute_result"
    }
   ],
   "source": [
    "head = initLinkedList([0])\n",
    "removeDups(head).print()"
   ]
  },
  {
   "cell_type": "code",
   "execution_count": 9,
   "metadata": {},
   "outputs": [
    {
     "name": "stdout",
     "output_type": "stream",
     "text": [
      "{0: 1, 1: 1}\n"
     ]
    },
    {
     "data": {
      "text/plain": [
       "'0->1'"
      ]
     },
     "execution_count": 9,
     "metadata": {},
     "output_type": "execute_result"
    }
   ],
   "source": [
    "head = initLinkedList([0,1])\n",
    "removeDups(head).print()"
   ]
  },
  {
   "cell_type": "code",
   "execution_count": 10,
   "metadata": {},
   "outputs": [
    {
     "name": "stdout",
     "output_type": "stream",
     "text": [
      "{0: 2}\n"
     ]
    },
    {
     "data": {
      "text/plain": [
       "'0'"
      ]
     },
     "execution_count": 10,
     "metadata": {},
     "output_type": "execute_result"
    }
   ],
   "source": [
    "head = initLinkedList([0,0])\n",
    "removeDups(head).print()"
   ]
  },
  {
   "cell_type": "code",
   "execution_count": 11,
   "metadata": {},
   "outputs": [
    {
     "name": "stdout",
     "output_type": "stream",
     "text": [
      "{0: 1, 1: 7, 2: 2, 3: 2}\n"
     ]
    },
    {
     "data": {
      "text/plain": [
       "'0->3->2->1'"
      ]
     },
     "execution_count": 11,
     "metadata": {},
     "output_type": "execute_result"
    }
   ],
   "source": [
    "head = initLinkedList([0,1,2,3,1,1,3,1,1,2,1,1])\n",
    "removeDups(head).print()"
   ]
  },
  {
   "cell_type": "markdown",
   "metadata": {},
   "source": [
    "Solution\n",
    "\n",
    "This code runs in O(n) space, and O(n) time."
   ]
  },
  {
   "cell_type": "code",
   "execution_count": 12,
   "metadata": {},
   "outputs": [],
   "source": [
    "def removeDups_v2(head: ListNode) -> None:\n",
    "    vals = {}\n",
    "    prevNode = None\n",
    "    currNode = head\n",
    "    while currNode:\n",
    "        if currNode.val not in vals: # Unique\n",
    "            vals[currNode.val] = True # Add in dictionary\n",
    "            prevNode = currNode # Update prev node to curr node\n",
    "        else: # Not unique, duplicate\n",
    "            # Point prev node's next to curr node's next,\n",
    "            # Effectively skipping curr node\n",
    "            prevNode.next = currNode.next \n",
    "        currNode = currNode.next # Check the next node"
   ]
  },
  {
   "cell_type": "code",
   "execution_count": 13,
   "metadata": {},
   "outputs": [
    {
     "data": {
      "text/plain": [
       "'0'"
      ]
     },
     "execution_count": 13,
     "metadata": {},
     "output_type": "execute_result"
    }
   ],
   "source": [
    "head = initLinkedList([0])\n",
    "removeDups_v2(head)\n",
    "head.print()"
   ]
  },
  {
   "cell_type": "code",
   "execution_count": 14,
   "metadata": {},
   "outputs": [
    {
     "data": {
      "text/plain": [
       "'0->1'"
      ]
     },
     "execution_count": 14,
     "metadata": {},
     "output_type": "execute_result"
    }
   ],
   "source": [
    "head = initLinkedList([0,1])\n",
    "removeDups_v2(head)\n",
    "head.print()"
   ]
  },
  {
   "cell_type": "code",
   "execution_count": 15,
   "metadata": {},
   "outputs": [
    {
     "data": {
      "text/plain": [
       "'0'"
      ]
     },
     "execution_count": 15,
     "metadata": {},
     "output_type": "execute_result"
    }
   ],
   "source": [
    "head = initLinkedList([0,0])\n",
    "removeDups_v2(head)\n",
    "head.print()"
   ]
  },
  {
   "cell_type": "code",
   "execution_count": 16,
   "metadata": {},
   "outputs": [
    {
     "data": {
      "text/plain": [
       "'0->1->2->3'"
      ]
     },
     "execution_count": 16,
     "metadata": {},
     "output_type": "execute_result"
    }
   ],
   "source": [
    "head = initLinkedList([0,1,2,3,1,1,3,1,1,2,1,1])\n",
    "removeDups_v2(head)\n",
    "head.print()"
   ]
  },
  {
   "cell_type": "markdown",
   "metadata": {},
   "source": [
    "Solution with Two Pointers (no buffer)\n",
    "\n",
    "*current* iterates through the linked list, and *runner* checks all subsequent nodes for duplicates.\n",
    "\n",
    "This code runs in O(1) space, but O(n^2) time."
   ]
  },
  {
   "cell_type": "code",
   "execution_count": 17,
   "metadata": {},
   "outputs": [],
   "source": [
    "def removeDups_v3(head: ListNode) -> None:\n",
    "    current = head\n",
    "    while current:\n",
    "        # Remove all future nodes that have the same value\n",
    "        runner = current\n",
    "        while runner.next:\n",
    "            if runner.next.val == current.val:\n",
    "                runner.next = runner.next.next\n",
    "            else:\n",
    "                runner = runner.next\n",
    "        current = current.next"
   ]
  },
  {
   "cell_type": "code",
   "execution_count": 18,
   "metadata": {},
   "outputs": [
    {
     "data": {
      "text/plain": [
       "'0'"
      ]
     },
     "execution_count": 18,
     "metadata": {},
     "output_type": "execute_result"
    }
   ],
   "source": [
    "head = initLinkedList([0])\n",
    "removeDups_v3(head)\n",
    "head.print()"
   ]
  },
  {
   "cell_type": "code",
   "execution_count": 19,
   "metadata": {},
   "outputs": [
    {
     "data": {
      "text/plain": [
       "'0->1'"
      ]
     },
     "execution_count": 19,
     "metadata": {},
     "output_type": "execute_result"
    }
   ],
   "source": [
    "head = initLinkedList([0,1])\n",
    "removeDups_v3(head)\n",
    "head.print()"
   ]
  },
  {
   "cell_type": "code",
   "execution_count": 20,
   "metadata": {},
   "outputs": [
    {
     "data": {
      "text/plain": [
       "'0'"
      ]
     },
     "execution_count": 20,
     "metadata": {},
     "output_type": "execute_result"
    }
   ],
   "source": [
    "head = initLinkedList([0,0])\n",
    "removeDups_v3(head)\n",
    "head.print()"
   ]
  },
  {
   "cell_type": "code",
   "execution_count": 21,
   "metadata": {},
   "outputs": [
    {
     "data": {
      "text/plain": [
       "'0->1->2->3'"
      ]
     },
     "execution_count": 21,
     "metadata": {},
     "output_type": "execute_result"
    }
   ],
   "source": [
    "head = initLinkedList([0,1,2,3,1,1,3,1,1,2,1,1])\n",
    "removeDups_v3(head)\n",
    "head.print()"
   ]
  },
  {
   "cell_type": "markdown",
   "metadata": {},
   "source": [
    "**Question 2.2**\n",
    "\n",
    "Return Kth to Last: Implement an algorithm to find the kth to last element of a singly linked list."
   ]
  },
  {
   "cell_type": "code",
   "execution_count": 22,
   "metadata": {},
   "outputs": [],
   "source": [
    "def returnKthToLast(head: ListNode, k: int) -> ListNode:\n",
    "    current = head\n",
    "    runner = current\n",
    "    # Fast-forward the runner by k-steps, if exists\n",
    "    for i in range(1, k): # Assuming k = 1 means last, then runner = current\n",
    "        if runner.next:\n",
    "            runner = runner.next\n",
    "        else: # k > length of LL, return the head\n",
    "            return head\n",
    "    # Start running, stop when reaches the end\n",
    "    while runner.next:\n",
    "        current = current.next\n",
    "        runner = runner.next\n",
    "    return current"
   ]
  },
  {
   "cell_type": "code",
   "execution_count": 23,
   "metadata": {},
   "outputs": [
    {
     "data": {
      "text/plain": [
       "'0'"
      ]
     },
     "execution_count": 23,
     "metadata": {},
     "output_type": "execute_result"
    }
   ],
   "source": [
    "head = initLinkedList([0])\n",
    "returnKthToLast(head, 1).print()"
   ]
  },
  {
   "cell_type": "code",
   "execution_count": 24,
   "metadata": {},
   "outputs": [
    {
     "data": {
      "text/plain": [
       "'1'"
      ]
     },
     "execution_count": 24,
     "metadata": {},
     "output_type": "execute_result"
    }
   ],
   "source": [
    "head = initLinkedList([0,1])\n",
    "returnKthToLast(head, 1).print()"
   ]
  },
  {
   "cell_type": "code",
   "execution_count": 25,
   "metadata": {},
   "outputs": [
    {
     "data": {
      "text/plain": [
       "'0->1'"
      ]
     },
     "execution_count": 25,
     "metadata": {},
     "output_type": "execute_result"
    }
   ],
   "source": [
    "head = initLinkedList([0,1])\n",
    "returnKthToLast(head, 2).print()"
   ]
  },
  {
   "cell_type": "code",
   "execution_count": 26,
   "metadata": {},
   "outputs": [
    {
     "data": {
      "text/plain": [
       "'1->1->2->1->1'"
      ]
     },
     "execution_count": 26,
     "metadata": {},
     "output_type": "execute_result"
    }
   ],
   "source": [
    "head = initLinkedList([0,1,2,3,1,1,3,1,1,2,1,1])\n",
    "returnKthToLast(head, 5).print()"
   ]
  },
  {
   "cell_type": "code",
   "execution_count": 27,
   "metadata": {},
   "outputs": [
    {
     "data": {
      "text/plain": [
       "'1->3->1->1->2->1->1'"
      ]
     },
     "execution_count": 27,
     "metadata": {},
     "output_type": "execute_result"
    }
   ],
   "source": [
    "head = initLinkedList([0,1,2,3,1,1,3,1,1,2,1,1])\n",
    "returnKthToLast(head, 7).print()"
   ]
  },
  {
   "cell_type": "code",
   "execution_count": 28,
   "metadata": {
    "scrolled": true
   },
   "outputs": [
    {
     "data": {
      "text/plain": [
       "'0->1->2->3->1->1->3->1->1->2->1->1'"
      ]
     },
     "execution_count": 28,
     "metadata": {},
     "output_type": "execute_result"
    }
   ],
   "source": [
    "head = initLinkedList([0,1,2,3,1,1,3,1,1,2,1,1])\n",
    "returnKthToLast(head, 12).print()"
   ]
  },
  {
   "cell_type": "markdown",
   "metadata": {},
   "source": [
    "This algorithm takes O(n) time and O(1) space."
   ]
  },
  {
   "cell_type": "markdown",
   "metadata": {},
   "source": [
    "**Question 2.3**"
   ]
  },
  {
   "cell_type": "markdown",
   "metadata": {},
   "source": [
    "Delete Middle Node: Implement an algorithm to delete a node in the middle (i.e., any node but the first and last node, not necessarily the exact middle) of a singly linked list, given only access to that node.\n",
    "\n",
    "EXAMPLE\n",
    "\n",
    "Input: the node c from the linked list a->b->c->d->e->f\n",
    "\n",
    "Result: nothing is returned, but the new linked list looks like a->b->d->e- >f"
   ]
  },
  {
   "cell_type": "code",
   "execution_count": 29,
   "metadata": {},
   "outputs": [],
   "source": [
    "# Simply copy the next node's value to the middle node\n",
    "def deleteMiddleNode(middle: ListNode) -> None:\n",
    "    nextNode = middle.next\n",
    "    middle.val = nextNode.val\n",
    "    middle.next = nextNode.next"
   ]
  },
  {
   "cell_type": "markdown",
   "metadata": {},
   "source": [
    "**Question 2.4**"
   ]
  },
  {
   "cell_type": "markdown",
   "metadata": {},
   "source": [
    "Partition: Write code to partition a linked list around a value x, such that all nodes less than x come before all nodes greater than or equal to x. If x is contained within the list, the values of x only need to be after the elements less than x (see below). The partition element x can appear anywhere in the \"right partition\"; it does not need to appear between the left and right partitions.\n",
    "\n",
    "EXAMPLE\n",
    "\n",
    "Input: 3 -> 5 -> 8 -> 5 -> 10 -> 2 -> 1 [partition=5]\n",
    "\n",
    "Output: 3 -> 1 -> 2 -> 10 -> 5 -> 5 -> 8"
   ]
  },
  {
   "cell_type": "code",
   "execution_count": 30,
   "metadata": {},
   "outputs": [],
   "source": [
    "# Create two LL: one for elements smaller than k, and one for elements larger than k\n",
    "# In the end, append the two LL together\n",
    "\n",
    "def partition(head: ListNode, k: int) -> ListNode:\n",
    "    small = None\n",
    "    smallHead = None\n",
    "    large = None\n",
    "    largeHead = None\n",
    "    curr = head\n",
    "    \n",
    "    while curr:\n",
    "        print(\"Curr: {0}\".format(curr.val))\n",
    "        if (curr.val < k):\n",
    "            if (small is None):\n",
    "                small = ListNode(curr.val)\n",
    "                smallHead = small\n",
    "            else:\n",
    "                temp = ListNode(curr.val)\n",
    "                small.next = temp\n",
    "                small = temp\n",
    "            print(\"Small: {0}\".format(smallHead.print()))\n",
    "        else:\n",
    "            if (large is None):\n",
    "                large = ListNode(curr.val)\n",
    "                largeHead = large\n",
    "            else:\n",
    "                temp = ListNode(curr.val)\n",
    "                large.next = temp\n",
    "                large = temp\n",
    "            print(\"Large: {0}\".format(largeHead.print()))\n",
    "        curr = curr.next\n",
    "        \n",
    "    # Append two LL together\n",
    "    if small:\n",
    "        small.next = largeHead\n",
    "    else:\n",
    "        return largeHead\n",
    "    return smallHead"
   ]
  },
  {
   "cell_type": "code",
   "execution_count": 31,
   "metadata": {
    "scrolled": true
   },
   "outputs": [
    {
     "name": "stdout",
     "output_type": "stream",
     "text": [
      "Curr: 3\n",
      "Small: 3\n",
      "Curr: 5\n",
      "Large: 5\n",
      "Curr: 8\n",
      "Large: 5->8\n",
      "Curr: 5\n",
      "Large: 5->8->5\n",
      "Curr: 10\n",
      "Large: 5->8->5->10\n",
      "Curr: 2\n",
      "Small: 3->2\n",
      "Curr: 1\n",
      "Small: 3->2->1\n"
     ]
    },
    {
     "data": {
      "text/plain": [
       "'3->2->1->5->8->5->10'"
      ]
     },
     "execution_count": 31,
     "metadata": {},
     "output_type": "execute_result"
    }
   ],
   "source": [
    "node = initLinkedList([3,5,8,5,10,2,1])\n",
    "partition(node, 5).print()"
   ]
  },
  {
   "cell_type": "code",
   "execution_count": 32,
   "metadata": {},
   "outputs": [
    {
     "name": "stdout",
     "output_type": "stream",
     "text": [
      "Curr: 3\n",
      "Large: 3\n",
      "Curr: 5\n",
      "Large: 3->5\n",
      "Curr: 8\n",
      "Large: 3->5->8\n",
      "Curr: 5\n",
      "Large: 3->5->8->5\n",
      "Curr: 10\n",
      "Large: 3->5->8->5->10\n",
      "Curr: 2\n",
      "Large: 3->5->8->5->10->2\n",
      "Curr: 1\n",
      "Large: 3->5->8->5->10->2->1\n"
     ]
    },
    {
     "data": {
      "text/plain": [
       "'3->5->8->5->10->2->1'"
      ]
     },
     "execution_count": 32,
     "metadata": {},
     "output_type": "execute_result"
    }
   ],
   "source": [
    "node = initLinkedList([3,5,8,5,10,2,1])\n",
    "partition(node, 1).print()"
   ]
  },
  {
   "cell_type": "code",
   "execution_count": 33,
   "metadata": {
    "scrolled": true
   },
   "outputs": [
    {
     "name": "stdout",
     "output_type": "stream",
     "text": [
      "Curr: 3\n",
      "Small: 3\n",
      "Curr: 5\n",
      "Small: 3->5\n",
      "Curr: 8\n",
      "Small: 3->5->8\n",
      "Curr: 5\n",
      "Small: 3->5->8->5\n",
      "Curr: 10\n",
      "Large: 10\n",
      "Curr: 2\n",
      "Small: 3->5->8->5->2\n",
      "Curr: 1\n",
      "Small: 3->5->8->5->2->1\n"
     ]
    },
    {
     "data": {
      "text/plain": [
       "'3->5->8->5->2->1->10'"
      ]
     },
     "execution_count": 33,
     "metadata": {},
     "output_type": "execute_result"
    }
   ],
   "source": [
    "node = initLinkedList([3,5,8,5,10,2,1])\n",
    "partition(node, 10).print()"
   ]
  },
  {
   "cell_type": "code",
   "execution_count": 34,
   "metadata": {},
   "outputs": [],
   "source": [
    "# Elements bigger than k are put at the tail\n",
    "# Elements smaller than k are put at the head\n",
    "\n",
    "def partitionV2(node: ListNode, k: int) -> ListNode:\n",
    "    head = node\n",
    "    tail = node\n",
    "    currNode = node\n",
    "    \n",
    "    while currNode:\n",
    "        nextNode = currNode.next\n",
    "        if (currNode.val < k):\n",
    "            currNode.next = head\n",
    "            head = currNode\n",
    "        else:\n",
    "            tail.next = currNode\n",
    "            tail = currNode\n",
    "        currNode = nextNode\n",
    "    \n",
    "    tail.next = None\n",
    "    return head"
   ]
  },
  {
   "cell_type": "code",
   "execution_count": 35,
   "metadata": {},
   "outputs": [
    {
     "data": {
      "text/plain": [
       "'1->2->3->5->8->5->10'"
      ]
     },
     "execution_count": 35,
     "metadata": {},
     "output_type": "execute_result"
    }
   ],
   "source": [
    "node = initLinkedList([3,5,8,5,10,2,1])\n",
    "partitionV2(node, 5).print()"
   ]
  },
  {
   "cell_type": "code",
   "execution_count": 36,
   "metadata": {},
   "outputs": [
    {
     "data": {
      "text/plain": [
       "'1->2->5->8->5->3->10'"
      ]
     },
     "execution_count": 36,
     "metadata": {},
     "output_type": "execute_result"
    }
   ],
   "source": [
    "node = initLinkedList([3,5,8,5,10,2,1])\n",
    "partitionV2(node, 10).print()"
   ]
  },
  {
   "cell_type": "code",
   "execution_count": 37,
   "metadata": {},
   "outputs": [
    {
     "data": {
      "text/plain": [
       "'3->5->8->5->10->2->1'"
      ]
     },
     "execution_count": 37,
     "metadata": {},
     "output_type": "execute_result"
    }
   ],
   "source": [
    "node = initLinkedList([3,5,8,5,10,2,1])\n",
    "partitionV2(node, 1).print()"
   ]
  },
  {
   "cell_type": "markdown",
   "metadata": {},
   "source": [
    "**Question 2.5**"
   ]
  },
  {
   "cell_type": "markdown",
   "metadata": {},
   "source": [
    "Sum Lists: You have two numbers represented by a linked list, where each node contains a single digit.The digits are stored in reverse order, such that the 1's digit is at the head of the list. Write a function that adds the two numbers and returns the sum as a linked list.\n",
    "\n",
    "EXAMPLE\n",
    "\n",
    "Input:(7-> 1 -> 6) + (5 -> 9 -> 2). That is, 617 + 295. Output: 2 -> 1 -> 9. That is,912.\n",
    "\n",
    "FOLLOW UP\n",
    "\n",
    "Suppose the digits are stored in forward order. Repeat the above problem.\n",
    "\n",
    "EXAMPLE\n",
    "\n",
    "lnput:(6 -> 1 -> 7) + (2 -> 9 -> 5). That is, 617 + 295. Output: 9 -> 1 -> 2. That is,912."
   ]
  },
  {
   "cell_type": "code",
   "execution_count": 38,
   "metadata": {},
   "outputs": [],
   "source": [
    "# Iterative solution\n",
    "\n",
    "def sumLists(x : ListNode, y : ListNode) -> ListNode:\n",
    "    result = None\n",
    "    resultHead = None\n",
    "    carryover = 0\n",
    "    \n",
    "    while (x or y or (carryover > 0)):\n",
    "        if x:\n",
    "            xVal = x.val\n",
    "            xNext = x.next\n",
    "        else:\n",
    "            xVal = 0\n",
    "            xNext = None\n",
    "        \n",
    "        if y:\n",
    "            yVal = y.val\n",
    "            yNext = y.next\n",
    "        else:\n",
    "            yVal = 0\n",
    "            yNext = None\n",
    "        \n",
    "        sumVal = xVal + yVal + carryover\n",
    "        carryover = int(sumVal / 10)\n",
    "        \n",
    "        if result:\n",
    "            temp = ListNode(int(sumVal % 10))\n",
    "            result.next = temp\n",
    "            result = result.next\n",
    "        else:\n",
    "            result = ListNode(int(sumVal % 10))\n",
    "            resultHead = result\n",
    "        \n",
    "        x = xNext\n",
    "        y = yNext\n",
    "        \n",
    "    return resultHead"
   ]
  },
  {
   "cell_type": "code",
   "execution_count": 39,
   "metadata": {},
   "outputs": [
    {
     "data": {
      "text/plain": [
       "'2->1->9'"
      ]
     },
     "execution_count": 39,
     "metadata": {},
     "output_type": "execute_result"
    }
   ],
   "source": [
    "x = initLinkedList([7, 1, 6])\n",
    "y = initLinkedList([5, 9, 2])\n",
    "sumLists(x, y).print()"
   ]
  },
  {
   "cell_type": "code",
   "execution_count": 40,
   "metadata": {},
   "outputs": [
    {
     "data": {
      "text/plain": [
       "'2->1->3'"
      ]
     },
     "execution_count": 40,
     "metadata": {},
     "output_type": "execute_result"
    }
   ],
   "source": [
    "x = initLinkedList([7, 1])\n",
    "y = initLinkedList([5, 9, 2])\n",
    "sumLists(x, y).print()"
   ]
  },
  {
   "cell_type": "code",
   "execution_count": 41,
   "metadata": {},
   "outputs": [
    {
     "data": {
      "text/plain": [
       "'7->1->6'"
      ]
     },
     "execution_count": 41,
     "metadata": {},
     "output_type": "execute_result"
    }
   ],
   "source": [
    "x = initLinkedList([7, 1, 6])\n",
    "y = None\n",
    "sumLists(x, y).print()"
   ]
  },
  {
   "cell_type": "code",
   "execution_count": 42,
   "metadata": {},
   "outputs": [
    {
     "data": {
      "text/plain": [
       "'0->1'"
      ]
     },
     "execution_count": 42,
     "metadata": {},
     "output_type": "execute_result"
    }
   ],
   "source": [
    "x = initLinkedList([5])\n",
    "y = initLinkedList([5])\n",
    "sumLists(x, y).print()"
   ]
  },
  {
   "cell_type": "code",
   "execution_count": 43,
   "metadata": {},
   "outputs": [],
   "source": [
    "# Recursive solution\n",
    "\n",
    "def sumListsV2(x : ListNode, y : ListNode, carryover : int) -> ListNode:\n",
    "    if (x is None) and (y is None) and (carryover == 0):\n",
    "        return None\n",
    "    \n",
    "    if x:\n",
    "        xVal = x.val\n",
    "        xNext = x.next\n",
    "    else:\n",
    "        xVal = 0\n",
    "        xNext = None\n",
    "\n",
    "    if y:\n",
    "        yVal = y.val\n",
    "        yNext = y.next\n",
    "    else:\n",
    "        yVal = 0\n",
    "        yNext = None\n",
    "\n",
    "    sumVal = xVal + yVal + carryover\n",
    "    carryover = int(sumVal / 10)\n",
    "    \n",
    "    result = ListNode(int(sumVal % 10)) \n",
    "    result.next = sumListsV2(xNext, yNext, carryover)\n",
    "    \n",
    "    return result"
   ]
  },
  {
   "cell_type": "code",
   "execution_count": 44,
   "metadata": {},
   "outputs": [
    {
     "data": {
      "text/plain": [
       "'2->1->9'"
      ]
     },
     "execution_count": 44,
     "metadata": {},
     "output_type": "execute_result"
    }
   ],
   "source": [
    "x = initLinkedList([7, 1, 6])\n",
    "y = initLinkedList([5, 9, 2])\n",
    "sumListsV2(x, y, 0).print()"
   ]
  },
  {
   "cell_type": "code",
   "execution_count": 45,
   "metadata": {},
   "outputs": [
    {
     "data": {
      "text/plain": [
       "'2->1->3'"
      ]
     },
     "execution_count": 45,
     "metadata": {},
     "output_type": "execute_result"
    }
   ],
   "source": [
    "x = initLinkedList([7, 1])\n",
    "y = initLinkedList([5, 9, 2])\n",
    "sumListsV2(x, y, 0).print()"
   ]
  },
  {
   "cell_type": "code",
   "execution_count": 46,
   "metadata": {},
   "outputs": [
    {
     "data": {
      "text/plain": [
       "'7->1->6'"
      ]
     },
     "execution_count": 46,
     "metadata": {},
     "output_type": "execute_result"
    }
   ],
   "source": [
    "x = initLinkedList([7, 1, 6])\n",
    "y = None\n",
    "sumListsV2(x, y, 0).print()"
   ]
  },
  {
   "cell_type": "code",
   "execution_count": 47,
   "metadata": {},
   "outputs": [
    {
     "data": {
      "text/plain": [
       "'0->1'"
      ]
     },
     "execution_count": 47,
     "metadata": {},
     "output_type": "execute_result"
    }
   ],
   "source": [
    "x = initLinkedList([5])\n",
    "y = initLinkedList([5])\n",
    "sumListsV2(x, y, 0).print()"
   ]
  },
  {
   "cell_type": "markdown",
   "metadata": {},
   "source": [
    "**Question 2.6**"
   ]
  },
  {
   "cell_type": "markdown",
   "metadata": {},
   "source": [
    "Palindrome: Implement a function to check if a linked list is a palindrome."
   ]
  },
  {
   "cell_type": "code",
   "execution_count": 48,
   "metadata": {},
   "outputs": [],
   "source": [
    "# Reverses a LL\n",
    "\n",
    "def reverseList(node : ListNode) -> ListNode:\n",
    "    reverse = None\n",
    "    currNode = node\n",
    "    \n",
    "    while currNode:\n",
    "        if reverse:\n",
    "            temp = reverse\n",
    "            reverse = ListNode(currNode.val)\n",
    "            reverse.next = temp\n",
    "        else:\n",
    "            reverse = ListNode(currNode.val)\n",
    "        currNode = currNode.next\n",
    "        \n",
    "    return reverse"
   ]
  },
  {
   "cell_type": "code",
   "execution_count": 49,
   "metadata": {},
   "outputs": [
    {
     "data": {
      "text/plain": [
       "'6->1->7'"
      ]
     },
     "execution_count": 49,
     "metadata": {},
     "output_type": "execute_result"
    }
   ],
   "source": [
    "node = initLinkedList([7, 1, 6])\n",
    "reverseList(node).print()"
   ]
  },
  {
   "cell_type": "code",
   "execution_count": 50,
   "metadata": {},
   "outputs": [
    {
     "data": {
      "text/plain": [
       "'7'"
      ]
     },
     "execution_count": 50,
     "metadata": {},
     "output_type": "execute_result"
    }
   ],
   "source": [
    "node = initLinkedList([7])\n",
    "reverseList(node).print()"
   ]
  },
  {
   "cell_type": "code",
   "execution_count": 51,
   "metadata": {},
   "outputs": [],
   "source": [
    "def palindrome(node : ListNode) -> bool:\n",
    "    if node is None:\n",
    "        return False\n",
    "    \n",
    "    reverseNode = reverseList(node)\n",
    "    currNode = node\n",
    "    \n",
    "    while currNode:\n",
    "        if currNode.val != reverseNode.val:\n",
    "            return False\n",
    "        currNode = currNode.next\n",
    "        reverseNode = reverseNode.next\n",
    "    \n",
    "    return True"
   ]
  },
  {
   "cell_type": "code",
   "execution_count": 52,
   "metadata": {},
   "outputs": [
    {
     "data": {
      "text/plain": [
       "True"
      ]
     },
     "execution_count": 52,
     "metadata": {},
     "output_type": "execute_result"
    }
   ],
   "source": [
    "node = initLinkedList([1])\n",
    "palindrome(node)"
   ]
  },
  {
   "cell_type": "code",
   "execution_count": 53,
   "metadata": {},
   "outputs": [
    {
     "data": {
      "text/plain": [
       "True"
      ]
     },
     "execution_count": 53,
     "metadata": {},
     "output_type": "execute_result"
    }
   ],
   "source": [
    "node = initLinkedList([1, 2, 1])\n",
    "palindrome(node)"
   ]
  },
  {
   "cell_type": "code",
   "execution_count": 54,
   "metadata": {},
   "outputs": [
    {
     "data": {
      "text/plain": [
       "False"
      ]
     },
     "execution_count": 54,
     "metadata": {},
     "output_type": "execute_result"
    }
   ],
   "source": [
    "node = initLinkedList([1, 2, 3])\n",
    "palindrome(node)"
   ]
  },
  {
   "cell_type": "code",
   "execution_count": 55,
   "metadata": {},
   "outputs": [
    {
     "data": {
      "text/plain": [
       "False"
      ]
     },
     "execution_count": 55,
     "metadata": {},
     "output_type": "execute_result"
    }
   ],
   "source": [
    "node = initLinkedList([1, 2])\n",
    "palindrome(node)"
   ]
  },
  {
   "cell_type": "markdown",
   "metadata": {},
   "source": [
    "**Question 2.7**"
   ]
  },
  {
   "cell_type": "markdown",
   "metadata": {},
   "source": [
    "Intersection: Given two (singly) linked lists, determine if the two lists intersect. Return the intersecting node. Note that the intersection is defined based on reference, not value. That is, if the kth node of the first linked list is the exact same node (by reference) as the jth node of the second linked list, then they are intersecting."
   ]
  },
  {
   "cell_type": "code",
   "execution_count": 56,
   "metadata": {},
   "outputs": [],
   "source": [
    "def getTailAndSize(node : ListNode) -> (ListNode, int):\n",
    "    currNode = node\n",
    "    size = 0\n",
    "    \n",
    "    while currNode:\n",
    "        size += 1\n",
    "        if currNode.next:\n",
    "            currNode = currNode.next\n",
    "        else:\n",
    "            break\n",
    "    \n",
    "    return currNode, size"
   ]
  },
  {
   "cell_type": "code",
   "execution_count": 57,
   "metadata": {},
   "outputs": [],
   "source": [
    "node = initLinkedList([1, 2, 1])\n",
    "tail, size = getTailAndSize(node)"
   ]
  },
  {
   "cell_type": "code",
   "execution_count": 58,
   "metadata": {},
   "outputs": [
    {
     "data": {
      "text/plain": [
       "'1'"
      ]
     },
     "execution_count": 58,
     "metadata": {},
     "output_type": "execute_result"
    }
   ],
   "source": [
    "tail.print()"
   ]
  },
  {
   "cell_type": "code",
   "execution_count": 59,
   "metadata": {},
   "outputs": [
    {
     "name": "stdout",
     "output_type": "stream",
     "text": [
      "3\n"
     ]
    }
   ],
   "source": [
    "print(size)"
   ]
  },
  {
   "cell_type": "code",
   "execution_count": 60,
   "metadata": {},
   "outputs": [],
   "source": [
    "def getKthNode(node : ListNode, k : int) -> ListNode:\n",
    "    currNode = node\n",
    "    while (k > 0 and currNode):\n",
    "        currNode = currNode.next\n",
    "        k -= 1\n",
    "    return currNode"
   ]
  },
  {
   "cell_type": "code",
   "execution_count": 61,
   "metadata": {},
   "outputs": [
    {
     "data": {
      "text/plain": [
       "'2->1'"
      ]
     },
     "execution_count": 61,
     "metadata": {},
     "output_type": "execute_result"
    }
   ],
   "source": [
    "node = initLinkedList([1, 2, 1])\n",
    "getKthNode(node, 1).print()"
   ]
  },
  {
   "cell_type": "code",
   "execution_count": 62,
   "metadata": {},
   "outputs": [],
   "source": [
    "def intersection(x : ListNode, y : ListNode) -> ListNode:\n",
    "    if (x is None) or (y is None):\n",
    "        return None\n",
    "    \n",
    "    # Get tail and size\n",
    "    xTail, xSize = getTailAndSize(x)\n",
    "    yTail, ySize = getTailAndSize(y)\n",
    "    \n",
    "    # Set pointers to the start of each LL, depending on the size\n",
    "    if xSize < ySize:\n",
    "        shorter = x\n",
    "        longer = y\n",
    "    else:\n",
    "        shorter = y\n",
    "        longer = x\n",
    "    \n",
    "    # Advance the pointer for the longer linked list by difference in lengths\n",
    "    # For example, if size difference is 1, then we advance the longer LL by 1\n",
    "    longer = getKthNode(longer, abs(xSize - ySize))\n",
    "    \n",
    "    # Move both pointers until collision\n",
    "    # Reference comparison\n",
    "    while (shorter != longer):\n",
    "        shorter = shorter.next\n",
    "        longer = longer.next\n",
    "    \n",
    "    # Return either one, doesn't matter\n",
    "    return longer"
   ]
  },
  {
   "cell_type": "code",
   "execution_count": 63,
   "metadata": {},
   "outputs": [
    {
     "data": {
      "text/plain": [
       "'7->2->1'"
      ]
     },
     "execution_count": 63,
     "metadata": {},
     "output_type": "execute_result"
    }
   ],
   "source": [
    "xBeg = initLinkedList([3, 1, 5, 9])\n",
    "yBeg = initLinkedList([4, 6])\n",
    "xyInter = initLinkedList([7, 2, 1])\n",
    "x = xBeg\n",
    "xTail, _ = getTailAndSize(x)\n",
    "xTail.next = xyInter\n",
    "# x.print()\n",
    "y = yBeg\n",
    "yTail, _ = getTailAndSize(y)\n",
    "yTail.next = xyInter\n",
    "# y.print()\n",
    "\n",
    "intersection(x, y).print()"
   ]
  },
  {
   "cell_type": "code",
   "execution_count": 67,
   "metadata": {
    "scrolled": true
   },
   "outputs": [
    {
     "data": {
      "text/plain": [
       "True"
      ]
     },
     "execution_count": 67,
     "metadata": {},
     "output_type": "execute_result"
    }
   ],
   "source": [
    "xBeg = initLinkedList([3, 1, 5, 9, 7, 2, 1])\n",
    "yBeg = initLinkedList([3, 1, 5, 9, 7, 2, 1])\n",
    "xyInter = None\n",
    "x = xBeg\n",
    "xTail, _ = getTailAndSize(x)\n",
    "xTail.next = xyInter\n",
    "# x.print()\n",
    "y = yBeg\n",
    "yTail, _ = getTailAndSize(y)\n",
    "yTail.next = xyInter\n",
    "# y.print()\n",
    "\n",
    "intersection(x, y) == None"
   ]
  }
 ],
 "metadata": {
  "kernelspec": {
   "display_name": "Python 3",
   "language": "python",
   "name": "python3"
  },
  "language_info": {
   "codemirror_mode": {
    "name": "ipython",
    "version": 3
   },
   "file_extension": ".py",
   "mimetype": "text/x-python",
   "name": "python",
   "nbconvert_exporter": "python",
   "pygments_lexer": "ipython3",
   "version": "3.7.4"
  }
 },
 "nbformat": 4,
 "nbformat_minor": 2
}
